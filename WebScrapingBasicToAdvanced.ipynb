{
  "nbformat": 4,
  "nbformat_minor": 0,
  "metadata": {
    "colab": {
      "name": "WebScrapingBasicToAdvanced.ipynb",
      "provenance": [],
      "collapsed_sections": []
    },
    "kernelspec": {
      "name": "python3",
      "display_name": "Python 3"
    }
  },
  "cells": [
    {
      "cell_type": "code",
      "metadata": {
        "id": "quHhEHDwJJay",
        "outputId": "fb3fcdbb-610e-49c3-eb6b-99100bfb151e",
        "colab": {
          "base_uri": "https://localhost:8080/"
        }
      },
      "source": [
        "from urllib.request import urlopen\n",
        "\n",
        "html=urlopen('http://pythonscraping.com/pages/page1.html')\n",
        "print(html.read())"
      ],
      "execution_count": 1,
      "outputs": [
        {
          "output_type": "stream",
          "text": [
            "b'<html>\\n<head>\\n<title>A Useful Page</title>\\n</head>\\n<body>\\n<h1>An Interesting Title</h1>\\n<div>\\nLorem ipsum dolor sit amet, consectetur adipisicing elit, sed do eiusmod tempor incididunt ut labore et dolore magna aliqua. Ut enim ad minim veniam, quis nostrud exercitation ullamco laboris nisi ut aliquip ex ea commodo consequat. Duis aute irure dolor in reprehenderit in voluptate velit esse cillum dolore eu fugiat nulla pariatur. Excepteur sint occaecat cupidatat non proident, sunt in culpa qui officia deserunt mollit anim id est laborum.\\n</div>\\n</body>\\n</html>\\n'\n"
          ],
          "name": "stdout"
        }
      ]
    },
    {
      "cell_type": "code",
      "metadata": {
        "id": "wvRCRcUnO3GD",
        "outputId": "8d53c2fb-649d-4b06-b95a-070aa33428f3",
        "colab": {
          "base_uri": "https://localhost:8080/"
        }
      },
      "source": [
        "pip install beautifulsoup4"
      ],
      "execution_count": 2,
      "outputs": [
        {
          "output_type": "stream",
          "text": [
            "Requirement already satisfied: beautifulsoup4 in /usr/local/lib/python3.6/dist-packages (4.6.3)\n"
          ],
          "name": "stdout"
        }
      ]
    },
    {
      "cell_type": "code",
      "metadata": {
        "id": "msVnqcLVPE6B",
        "outputId": "148a0ef6-ee4c-474b-cd60-76915798be04",
        "colab": {
          "base_uri": "https://localhost:8080/"
        }
      },
      "source": [
        "from bs4 import BeautifulSoup\n",
        "\n",
        "html = urlopen(\"http://www.pythonscraping.com/pages/page1.html\")\n",
        "bs = BeautifulSoup(html.read())\n",
        "print(bs)"
      ],
      "execution_count": 3,
      "outputs": [
        {
          "output_type": "stream",
          "text": [
            "<html>\n",
            "<head>\n",
            "<title>A Useful Page</title>\n",
            "</head>\n",
            "<body>\n",
            "<h1>An Interesting Title</h1>\n",
            "<div>\n",
            "Lorem ipsum dolor sit amet, consectetur adipisicing elit, sed do eiusmod tempor incididunt ut labore et dolore magna aliqua. Ut enim ad minim veniam, quis nostrud exercitation ullamco laboris nisi ut aliquip ex ea commodo consequat. Duis aute irure dolor in reprehenderit in voluptate velit esse cillum dolore eu fugiat nulla pariatur. Excepteur sint occaecat cupidatat non proident, sunt in culpa qui officia deserunt mollit anim id est laborum.\n",
            "</div>\n",
            "</body>\n",
            "</html>\n",
            "\n"
          ],
          "name": "stdout"
        }
      ]
    },
    {
      "cell_type": "code",
      "metadata": {
        "id": "osYrLYY-QP3o",
        "outputId": "2ea307a8-8a2a-4b35-faa4-987c15c0050e",
        "colab": {
          "base_uri": "https://localhost:8080/"
        }
      },
      "source": [
        "from bs4 import BeautifulSoup\n",
        "from urllib.error import HTTPError\n",
        "try:\n",
        "  html = urlopen(\"http://www.pythonscraping.com/pages/page1.html\")\n",
        "  bs = BeautifulSoup(html.read())\n",
        "except HTTPError as e:\n",
        "  print(e)\n",
        "except URLError as e:\n",
        "  print(\"The server could not be found!\")\n",
        "else:\n",
        "  print(\" Dikebirikan sampis\")"
      ],
      "execution_count": 4,
      "outputs": [
        {
          "output_type": "stream",
          "text": [
            " Dikebirikan sampis\n"
          ],
          "name": "stdout"
        }
      ]
    },
    {
      "cell_type": "code",
      "metadata": {
        "id": "7BT3ieQwU_iV",
        "outputId": "ec414d50-5b3a-4af7-924d-6689dd0ab63d",
        "colab": {
          "base_uri": "https://localhost:8080/"
        }
      },
      "source": [
        "try:\n",
        "  badContent = bs.html.h1\n",
        "except AttributeError as e:\n",
        "  print(\"Tag Ngga ada Cok\")\n",
        "else:\n",
        "  if badContent == None:\n",
        "    print(\"Ga ada Blok\")\n",
        "  else:\n",
        "    print(badContent)"
      ],
      "execution_count": 5,
      "outputs": [
        {
          "output_type": "stream",
          "text": [
            "<h1>An Interesting Title</h1>\n"
          ],
          "name": "stdout"
        }
      ]
    },
    {
      "cell_type": "code",
      "metadata": {
        "id": "A4iX11J0WBTd",
        "outputId": "c18f79dd-4c95-4c66-b611-b4422c66d180",
        "colab": {
          "base_uri": "https://localhost:8080/"
        }
      },
      "source": [
        "def getTitle(url):\n",
        "  try:\n",
        "    html = urlopen(url)\n",
        "  except HTTPError as e:\n",
        "    print(\"Sampis\")\n",
        "    return None\n",
        "  \n",
        "  try:\n",
        "    bs = BeautifulSoup(html.read(),\"html.parser\")\n",
        "    title = bs.body.h1\n",
        "  except AttributeError as e:\n",
        "    return None\n",
        "  return title\n",
        "\n",
        "\n",
        "title = getTitle(\"http://www.pythonscraping.com/pages/pags1.html\")\n",
        "if title == None:\n",
        "  print(\"Title could not be Found\")\n",
        "else:\n",
        "  print(title)"
      ],
      "execution_count": 7,
      "outputs": [
        {
          "output_type": "stream",
          "text": [
            "Sampis\n",
            "Title could not be Found\n"
          ],
          "name": "stdout"
        }
      ]
    },
    {
      "cell_type": "code",
      "metadata": {
        "id": "VgHA4a9nH77U",
        "outputId": "3baaaf93-c44e-4022-e1ab-d580d097f63c",
        "colab": {
          "base_uri": "https://localhost:8080/"
        }
      },
      "source": [
        "from urllib.request import urlopen\n",
        "from bs4 import BeautifulSoup\n",
        "\n",
        "html = urlopen(\"http://www.pythonscraping.com/pages/warandpeace.html\")\n",
        "bs = BeautifulSoup(html.read(), \"html.parser\")\n",
        "\n",
        "nameList = bs.findAll(\"span\", {\"class\":[\"green\",\"red\"]})\n",
        "for name in nameList:\n",
        "  print(name.get_text())"
      ],
      "execution_count": 18,
      "outputs": [
        {
          "output_type": "stream",
          "text": [
            "Well, Prince, so Genoa and Lucca are now just family estates of the\n",
            "Buonapartes. But I warn you, if you don't tell me that this means war,\n",
            "if you still try to defend the infamies and horrors perpetrated by\n",
            "that Antichrist- I really believe he is Antichrist- I will have\n",
            "nothing more to do with you and you are no longer my friend, no longer\n",
            "my 'faithful slave,' as you call yourself! But how do you do? I see\n",
            "I have frightened you- sit down and tell me all the news.\n",
            "Anna\n",
            "Pavlovna Scherer\n",
            "Empress Marya\n",
            "Fedorovna\n",
            "Prince Vasili Kuragin\n",
            "Anna Pavlovna\n",
            "St. Petersburg\n",
            "If you have nothing better to do, Count [or Prince], and if the\n",
            "prospect of spending an evening with a poor invalid is not too\n",
            "terrible, I shall be very charmed to see you tonight between 7 and 10-\n",
            "Annette Scherer.\n",
            "Heavens! what a virulent attack!\n",
            "the prince\n",
            "Anna Pavlovna\n",
            "First of all, dear friend, tell me how you are. Set your friend's\n",
            "mind at rest,\n",
            "Can one be well while suffering morally? Can one be calm in times\n",
            "like these if one has any feeling?\n",
            "Anna Pavlovna\n",
            "You are\n",
            "staying the whole evening, I hope?\n",
            "And the fete at the English ambassador's? Today is Wednesday. I\n",
            "must put in an appearance there,\n",
            "the prince\n",
            "My daughter is\n",
            "coming for me to take me there.\n",
            "I thought today's fete had been canceled. I confess all these\n",
            "festivities and fireworks are becoming wearisome.\n",
            "If they had known that you wished it, the entertainment would\n",
            "have been put off,\n",
            "the prince\n",
            "Don't tease! Well, and what has been decided about Novosiltsev's\n",
            "dispatch? You know everything.\n",
            "What can one say about it?\n",
            "the prince\n",
            "What has been decided? They have decided that\n",
            "Buonaparte has burnt his boats, and I believe that we are ready to\n",
            "burn ours.\n",
            "Prince Vasili\n",
            "Anna Pavlovna\n",
            "Anna Pavlovna\n",
            "Oh, don't speak to me of Austria. Perhaps I don't understand\n",
            "things, but Austria never has wished, and does not wish, for war.\n",
            "She is betraying us! Russia alone must save Europe. Our gracious\n",
            "sovereign recognizes his high vocation and will be true to it. That is\n",
            "the one thing I have faith in! Our good and wonderful sovereign has to\n",
            "perform the noblest role on earth, and he is so virtuous and noble\n",
            "that God will not forsake him. He will fulfill his vocation and\n",
            "crush the hydra of revolution, which has become more terrible than\n",
            "ever in the person of this murderer and villain! We alone must\n",
            "avenge the blood of the just one.... Whom, I ask you, can we rely\n",
            "on?... England with her commercial spirit will not and cannot\n",
            "understand the Emperor Alexander's loftiness of soul. She has\n",
            "refused to evacuate Malta. She wanted to find, and still seeks, some\n",
            "secret motive in our actions. What answer did Novosiltsev get? None.\n",
            "The English have not understood and cannot understand the\n",
            "self-abnegation of our Emperor who wants nothing for himself, but only\n",
            "desires the good of mankind. And what have they promised? Nothing! And\n",
            "what little they have promised they will not perform! Prussia has\n",
            "always declared that Buonaparte is invincible, and that all Europe\n",
            "is powerless before him.... And I don't believe a word that Hardenburg\n",
            "says, or Haugwitz either. This famous Prussian neutrality is just a\n",
            "trap. I have faith only in God and the lofty destiny of our adored\n",
            "monarch. He will save Europe!\n",
            "I think,\n",
            "the prince\n",
            "that if you had been\n",
            "sent instead of our dear Wintzingerode you would have captured the\n",
            "King of Prussia's consent by assault. You are so eloquent. Will you\n",
            "give me a cup of tea?\n",
            "Wintzingerode\n",
            "King of Prussia\n",
            "In a moment. A propos,\n",
            "I am\n",
            "expecting two very interesting men tonight, le Vicomte de Mortemart,\n",
            "who is connected with the Montmorencys through the Rohans, one of\n",
            "the best French families. He is one of the genuine emigres, the good\n",
            "ones. And also the Abbe Morio. Do you know that profound thinker? He\n",
            "has been received by the Emperor. Had you heard?\n",
            "le Vicomte de Mortemart\n",
            "Montmorencys\n",
            "Rohans\n",
            "Abbe Morio\n",
            "the Emperor\n",
            "I shall be delighted to meet them,\n",
            "the prince\n",
            "But tell me,\n",
            "is it true that the Dowager Empress wants Baron Funke\n",
            "to be appointed first secretary at Vienna? The baron by all accounts\n",
            "is a poor creature.\n",
            "Prince Vasili\n",
            "Dowager Empress Marya Fedorovna\n",
            "the baron\n",
            "Anna Pavlovna\n",
            "the Empress\n",
            "Baron Funke has been recommended to the Dowager Empress by her\n",
            "sister,\n",
            "the Empress\n",
            "Anna Pavlovna's\n",
            "Her Majesty\n",
            "Baron\n",
            "Funke\n",
            "The prince\n",
            "Anna\n",
            "Pavlovna\n",
            "the Empress\n",
            "Now about your family. Do you know that since your daughter came\n",
            "out everyone has been enraptured by her? They say she is amazingly\n",
            "beautiful.\n",
            "The prince\n",
            "I often think,\n",
            "I often think how unfairly sometimes the\n",
            "joys of life are distributed. Why has fate given you two such splendid\n",
            "children? I don't speak of Anatole, your youngest. I don't like\n",
            "him,\n",
            "Anatole\n",
            "Two such charming children. And really you appreciate\n",
            "them less than anyone, and so you don't deserve to have them.\n",
            "I can't help it,\n",
            "the prince\n",
            "Lavater would have said I\n",
            "lack the bump of paternity.\n",
            "Don't joke; I mean to have a serious talk with you. Do you know I\n",
            "am dissatisfied with your younger son? Between ourselves\n",
            "he was mentioned at Her\n",
            "Majesty's and you were pitied....\n",
            "The prince\n",
            "What would you have me do?\n",
            "You know I did all\n",
            "a father could for their education, and they have both turned out\n",
            "fools. Hippolyte is at least a quiet fool, but Anatole is an active\n",
            "one. That is the only difference between them.\n",
            "And why are children born to such men as you? If you were not a\n",
            "father there would be nothing I could reproach you with,\n",
            "Anna\n",
            "Pavlovna\n",
            "I am your faithful slave and to you alone I can confess that my\n",
            "children are the bane of my life. It is the cross I have to bear. That\n",
            "is how I explain it to myself. It can't be helped!\n",
            "Anna Pavlovna\n"
          ],
          "name": "stdout"
        }
      ]
    },
    {
      "cell_type": "code",
      "metadata": {
        "id": "vV4JqP2mLjG7",
        "outputId": "3be4010e-638c-47d0-f212-144e4422d861",
        "colab": {
          "base_uri": "https://localhost:8080/"
        }
      },
      "source": [
        "hList = bs.findAll([\"h1\",\"h2\",\"h3\",\"h4\",\"h5\",\"h6\"])\n",
        "for h in hList:\n",
        "  print(h)"
      ],
      "execution_count": 19,
      "outputs": [
        {
          "output_type": "stream",
          "text": [
            "<h1>War and Peace</h1>\n",
            "<h2>Chapter 1</h2>\n"
          ],
          "name": "stdout"
        }
      ]
    },
    {
      "cell_type": "code",
      "metadata": {
        "id": "FFDixErCMvIW",
        "outputId": "27650dd5-bedf-4a73-9190-293fa87a8b46",
        "colab": {
          "base_uri": "https://localhost:8080/"
        }
      },
      "source": [
        "nameList=bs.find_all(text='the prince',limit=3)\n",
        "print(nameList)"
      ],
      "execution_count": 23,
      "outputs": [
        {
          "output_type": "stream",
          "text": [
            "['the prince', 'the prince', 'the prince']\n"
          ],
          "name": "stdout"
        }
      ]
    },
    {
      "cell_type": "code",
      "metadata": {
        "id": "Ju9jY0KiN4oo",
        "outputId": "5c4d2ead-d42b-44cb-e5ef-664234e0fe4c",
        "colab": {
          "base_uri": "https://localhost:8080/"
        }
      },
      "source": [
        "Sampis = bs.find(id=\"title\")\n",
        "print(Sampis)"
      ],
      "execution_count": 27,
      "outputs": [
        {
          "output_type": "stream",
          "text": [
            "None\n"
          ],
          "name": "stdout"
        }
      ]
    },
    {
      "cell_type": "code",
      "metadata": {
        "id": "aRjkKxckOrIv",
        "outputId": "8d73860d-2096-4b29-ea9b-e1918c4e265e",
        "colab": {
          "base_uri": "https://localhost:8080/"
        }
      },
      "source": [
        "bs.findAll(\"\",{\"class\":\"red\"})"
      ],
      "execution_count": 38,
      "outputs": [
        {
          "output_type": "execute_result",
          "data": {
            "text/plain": [
              "[<span class=\"red\">Well, Prince, so Genoa and Lucca are now just family estates of the\n",
              " Buonapartes. But I warn you, if you don't tell me that this means war,\n",
              " if you still try to defend the infamies and horrors perpetrated by\n",
              " that Antichrist- I really believe he is Antichrist- I will have\n",
              " nothing more to do with you and you are no longer my friend, no longer\n",
              " my 'faithful slave,' as you call yourself! But how do you do? I see\n",
              " I have frightened you- sit down and tell me all the news.</span>,\n",
              " <span class=\"red\">If you have nothing better to do, Count [or Prince], and if the\n",
              " prospect of spending an evening with a poor invalid is not too\n",
              " terrible, I shall be very charmed to see you tonight between 7 and 10-\n",
              " Annette Scherer.</span>,\n",
              " <span class=\"red\">Heavens! what a virulent attack!</span>,\n",
              " <span class=\"red\">First of all, dear friend, tell me how you are. Set your friend's\n",
              " mind at rest,</span>,\n",
              " <span class=\"red\">Can one be well while suffering morally? Can one be calm in times\n",
              " like these if one has any feeling?</span>,\n",
              " <span class=\"red\">You are\n",
              " staying the whole evening, I hope?</span>,\n",
              " <span class=\"red\">And the fete at the English ambassador's? Today is Wednesday. I\n",
              " must put in an appearance there,</span>,\n",
              " <span class=\"red\">My daughter is\n",
              " coming for me to take me there.</span>,\n",
              " <span class=\"red\">I thought today's fete had been canceled. I confess all these\n",
              " festivities and fireworks are becoming wearisome.</span>,\n",
              " <span class=\"red\">If they had known that you wished it, the entertainment would\n",
              " have been put off,</span>,\n",
              " <span class=\"red\">Don't tease! Well, and what has been decided about Novosiltsev's\n",
              " dispatch? You know everything.</span>,\n",
              " <span class=\"red\">What can one say about it?</span>,\n",
              " <span class=\"red\">What has been decided? They have decided that\n",
              " Buonaparte has burnt his boats, and I believe that we are ready to\n",
              " burn ours.</span>,\n",
              " <span class=\"red\">Oh, don't speak to me of Austria. Perhaps I don't understand\n",
              " things, but Austria never has wished, and does not wish, for war.\n",
              " She is betraying us! Russia alone must save Europe. Our gracious\n",
              " sovereign recognizes his high vocation and will be true to it. That is\n",
              " the one thing I have faith in! Our good and wonderful sovereign has to\n",
              " perform the noblest role on earth, and he is so virtuous and noble\n",
              " that God will not forsake him. He will fulfill his vocation and\n",
              " crush the hydra of revolution, which has become more terrible than\n",
              " ever in the person of this murderer and villain! We alone must\n",
              " avenge the blood of the just one.... Whom, I ask you, can we rely\n",
              " on?... England with her commercial spirit will not and cannot\n",
              " understand the Emperor Alexander's loftiness of soul. She has\n",
              " refused to evacuate Malta. She wanted to find, and still seeks, some\n",
              " secret motive in our actions. What answer did Novosiltsev get? None.\n",
              " The English have not understood and cannot understand the\n",
              " self-abnegation of our Emperor who wants nothing for himself, but only\n",
              " desires the good of mankind. And what have they promised? Nothing! And\n",
              " what little they have promised they will not perform! Prussia has\n",
              " always declared that Buonaparte is invincible, and that all Europe\n",
              " is powerless before him.... And I don't believe a word that Hardenburg\n",
              " says, or Haugwitz either. This famous Prussian neutrality is just a\n",
              " trap. I have faith only in God and the lofty destiny of our adored\n",
              " monarch. He will save Europe!</span>,\n",
              " <span class=\"red\">I think,</span>,\n",
              " <span class=\"red\">that if you had been\n",
              " sent instead of our dear <span class=\"green\">Wintzingerode</span> you would have captured the\n",
              " <span class=\"green\">King of Prussia</span>'s consent by assault. You are so eloquent. Will you\n",
              " give me a cup of tea?</span>,\n",
              " <span class=\"red\">In a moment. A propos,</span>,\n",
              " <span class=\"red\">I am\n",
              " expecting two very interesting men tonight, <span class=\"green\">le Vicomte de Mortemart</span>,\n",
              " who is connected with the <span class=\"green\">Montmorencys</span> through the <span class=\"green\">Rohans</span>, one of\n",
              " the best French families. He is one of the genuine emigres, the good\n",
              " ones. And also the <span class=\"green\">Abbe Morio</span>. Do you know that profound thinker? He\n",
              " has been received by <span class=\"green\">the Emperor</span>. Had you heard?</span>,\n",
              " <span class=\"red\">I shall be delighted to meet them,</span>,\n",
              " <span class=\"red\">But tell me,</span>,\n",
              " <span class=\"red\">is it true that the Dowager Empress wants Baron Funke\n",
              " to be appointed first secretary at Vienna? The baron by all accounts\n",
              " is a poor creature.</span>,\n",
              " <span class=\"red\">Baron Funke has been recommended to the Dowager Empress by her\n",
              " sister,</span>,\n",
              " <span class=\"red\">Now about your family. Do you know that since your daughter came\n",
              " out everyone has been enraptured by her? They say she is amazingly\n",
              " beautiful.</span>,\n",
              " <span class=\"red\">I often think,</span>,\n",
              " <span class=\"red\">I often think how unfairly sometimes the\n",
              " joys of life are distributed. Why has fate given you two such splendid\n",
              " children? I don't speak of <span class=\"green\">Anatole</span>, your youngest. I don't like\n",
              " him,</span>,\n",
              " <span class=\"red\">Two such charming children. And really you appreciate\n",
              " them less than anyone, and so you don't deserve to have them.</span>,\n",
              " <span class=\"red\">I can't help it,</span>,\n",
              " <span class=\"red\">Lavater would have said I\n",
              " lack the bump of paternity.</span>,\n",
              " <span class=\"red\">Don't joke; I mean to have a serious talk with you. Do you know I\n",
              " am dissatisfied with your younger son? Between ourselves</span>,\n",
              " <span class=\"red\">he was mentioned at Her\n",
              " Majesty's and you were pitied....</span>,\n",
              " <span class=\"red\">What would you have me do?</span>,\n",
              " <span class=\"red\">You know I did all\n",
              " a father could for their education, and they have both turned out\n",
              " fools. Hippolyte is at least a quiet fool, but Anatole is an active\n",
              " one. That is the only difference between them.</span>,\n",
              " <span class=\"red\">And why are children born to such men as you? If you were not a\n",
              " father there would be nothing I could reproach you with,</span>,\n",
              " <span class=\"red\">I am your faithful slave and to you alone I can confess that my\n",
              " children are the bane of my life. It is the cross I have to bear. That\n",
              " is how I explain it to myself. It can't be helped!</span>]"
            ]
          },
          "metadata": {
            "tags": []
          },
          "execution_count": 38
        }
      ]
    }
  ]
}